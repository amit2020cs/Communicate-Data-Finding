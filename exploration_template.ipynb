{
  "nbformat": 4,
  "nbformat_minor": 0,
  "metadata": {
    "kernelspec": {
      "display_name": "Python 3",
      "language": "python",
      "name": "python3"
    },
    "language_info": {
      "codemirror_mode": {
        "name": "ipython",
        "version": 3
      },
      "file_extension": ".py",
      "mimetype": "text/x-python",
      "name": "python",
      "nbconvert_exporter": "python",
      "pygments_lexer": "ipython3",
      "version": "3.7.4"
    },
    "colab": {
      "name": "exploration_template.ipynb",
      "provenance": [],
      "collapsed_sections": [
        "TznISQ_GYrPV",
        "McXqyD1RYrP4"
      ],
      "include_colab_link": true
    }
  },
  "cells": [
    {
      "cell_type": "markdown",
      "metadata": {
        "id": "view-in-github",
        "colab_type": "text"
      },
      "source": [
        "<a href=\"https://colab.research.google.com/github/amit2020cs/Communicate-Data-Finding/blob/master/exploration_template.ipynb\" target=\"_parent\"><img src=\"https://colab.research.google.com/assets/colab-badge.svg\" alt=\"Open In Colab\"/></a>"
      ]
    },
    {
      "cell_type": "markdown",
      "metadata": {
        "id": "TNgTLJfoYrM3",
        "colab_type": "text"
      },
      "source": [
        "# Communicate Data Finding\n",
        "## by (Amit Kumar Singh)\n",
        "\n",
        "\n",
        "# Introduction\n",
        "Ford GoBike is the Bay Area's bike share system. Bay Area Bike Share was introduced in 2013 as a pilot program for the region, with 700 bikes and 70 stations across San Francisco and San Jose. Once expansion is complete, Ford GoBike will grow to 7,000 bikes across San Francisco, the East Bay and San Jose."
      ]
    },
    {
      "cell_type": "markdown",
      "metadata": {
        "id": "6SG51TWeYrM-",
        "colab_type": "text"
      },
      "source": [
        "## Preliminary Wranging"
      ]
    },
    {
      "cell_type": "code",
      "metadata": {
        "id": "IvJGryR9YrNB",
        "colab_type": "code",
        "colab": {}
      },
      "source": [
        "# import all packages and set plots to be embedded inline\n",
        "import numpy as np\n",
        "import pandas as pd\n",
        "import matplotlib.pyplot as plt\n",
        "import seaborn as sb\n",
        "import datetime\n",
        "\n",
        "%matplotlib inline"
      ],
      "execution_count": 0,
      "outputs": []
    },
    {
      "cell_type": "code",
      "metadata": {
        "id": "wCTKaL4MaowW",
        "colab_type": "code",
        "outputId": "f6b0cdd0-107e-462e-c4d1-a4863213cc55",
        "colab": {
          "base_uri": "https://localhost:8080/",
          "height": 217
        }
      },
      "source": [
        "!wget 'https://s3.amazonaws.com/baywheels-data/2017-fordgobike-tripdata.csv'"
      ],
      "execution_count": 3,
      "outputs": [
        {
          "output_type": "stream",
          "text": [
            "--2019-10-29 08:17:48--  https://s3.amazonaws.com/baywheels-data/2017-fordgobike-tripdata.csv\n",
            "Resolving s3.amazonaws.com (s3.amazonaws.com)... 52.216.133.117\n",
            "Connecting to s3.amazonaws.com (s3.amazonaws.com)|52.216.133.117|:443... connected.\n",
            "HTTP request sent, awaiting response... 200 OK\n",
            "Length: 117958114 (112M) [text/csv]\n",
            "Saving to: ‘2017-fordgobike-tripdata.csv.1’\n",
            "\n",
            "2017-fordgobike-tri 100%[===================>] 112.49M  71.9MB/s    in 1.6s    \n",
            "\n",
            "2019-10-29 08:17:50 (71.9 MB/s) - ‘2017-fordgobike-tripdata.csv.1’ saved [117958114/117958114]\n",
            "\n"
          ],
          "name": "stdout"
        }
      ]
    },
    {
      "cell_type": "code",
      "metadata": {
        "id": "1COGpYN0YrNN",
        "colab_type": "code",
        "colab": {}
      },
      "source": [
        "df = pd.read_csv('2017-fordgobike-tripdata.csv')"
      ],
      "execution_count": 0,
      "outputs": []
    },
    {
      "cell_type": "code",
      "metadata": {
        "id": "pwsI4nk5YrNT",
        "colab_type": "code",
        "outputId": "111614de-655c-4e72-e144-dcf3545537ab",
        "colab": {
          "base_uri": "https://localhost:8080/",
          "height": 339
        }
      },
      "source": [
        "df.head()"
      ],
      "execution_count": 5,
      "outputs": [
        {
          "output_type": "execute_result",
          "data": {
            "text/html": [
              "<div>\n",
              "<style scoped>\n",
              "    .dataframe tbody tr th:only-of-type {\n",
              "        vertical-align: middle;\n",
              "    }\n",
              "\n",
              "    .dataframe tbody tr th {\n",
              "        vertical-align: top;\n",
              "    }\n",
              "\n",
              "    .dataframe thead th {\n",
              "        text-align: right;\n",
              "    }\n",
              "</style>\n",
              "<table border=\"1\" class=\"dataframe\">\n",
              "  <thead>\n",
              "    <tr style=\"text-align: right;\">\n",
              "      <th></th>\n",
              "      <th>duration_sec</th>\n",
              "      <th>start_time</th>\n",
              "      <th>end_time</th>\n",
              "      <th>start_station_id</th>\n",
              "      <th>start_station_name</th>\n",
              "      <th>start_station_latitude</th>\n",
              "      <th>start_station_longitude</th>\n",
              "      <th>end_station_id</th>\n",
              "      <th>end_station_name</th>\n",
              "      <th>end_station_latitude</th>\n",
              "      <th>end_station_longitude</th>\n",
              "      <th>bike_id</th>\n",
              "      <th>user_type</th>\n",
              "      <th>member_birth_year</th>\n",
              "      <th>member_gender</th>\n",
              "    </tr>\n",
              "  </thead>\n",
              "  <tbody>\n",
              "    <tr>\n",
              "      <th>0</th>\n",
              "      <td>80110</td>\n",
              "      <td>2017-12-31 16:57:39.6540</td>\n",
              "      <td>2018-01-01 15:12:50.2450</td>\n",
              "      <td>74</td>\n",
              "      <td>Laguna St at Hayes St</td>\n",
              "      <td>37.776435</td>\n",
              "      <td>-122.426244</td>\n",
              "      <td>43</td>\n",
              "      <td>San Francisco Public Library (Grove St at Hyde...</td>\n",
              "      <td>37.778768</td>\n",
              "      <td>-122.415929</td>\n",
              "      <td>96</td>\n",
              "      <td>Customer</td>\n",
              "      <td>1987.0</td>\n",
              "      <td>Male</td>\n",
              "    </tr>\n",
              "    <tr>\n",
              "      <th>1</th>\n",
              "      <td>78800</td>\n",
              "      <td>2017-12-31 15:56:34.8420</td>\n",
              "      <td>2018-01-01 13:49:55.6170</td>\n",
              "      <td>284</td>\n",
              "      <td>Yerba Buena Center for the Arts (Howard St at ...</td>\n",
              "      <td>37.784872</td>\n",
              "      <td>-122.400876</td>\n",
              "      <td>96</td>\n",
              "      <td>Dolores St at 15th St</td>\n",
              "      <td>37.766210</td>\n",
              "      <td>-122.426614</td>\n",
              "      <td>88</td>\n",
              "      <td>Customer</td>\n",
              "      <td>1965.0</td>\n",
              "      <td>Female</td>\n",
              "    </tr>\n",
              "    <tr>\n",
              "      <th>2</th>\n",
              "      <td>45768</td>\n",
              "      <td>2017-12-31 22:45:48.4110</td>\n",
              "      <td>2018-01-01 11:28:36.8830</td>\n",
              "      <td>245</td>\n",
              "      <td>Downtown Berkeley BART</td>\n",
              "      <td>37.870348</td>\n",
              "      <td>-122.267764</td>\n",
              "      <td>245</td>\n",
              "      <td>Downtown Berkeley BART</td>\n",
              "      <td>37.870348</td>\n",
              "      <td>-122.267764</td>\n",
              "      <td>1094</td>\n",
              "      <td>Customer</td>\n",
              "      <td>NaN</td>\n",
              "      <td>NaN</td>\n",
              "    </tr>\n",
              "    <tr>\n",
              "      <th>3</th>\n",
              "      <td>62172</td>\n",
              "      <td>2017-12-31 17:31:10.6360</td>\n",
              "      <td>2018-01-01 10:47:23.5310</td>\n",
              "      <td>60</td>\n",
              "      <td>8th St at Ringold St</td>\n",
              "      <td>37.774520</td>\n",
              "      <td>-122.409449</td>\n",
              "      <td>5</td>\n",
              "      <td>Powell St BART Station (Market St at 5th St)</td>\n",
              "      <td>37.783899</td>\n",
              "      <td>-122.408445</td>\n",
              "      <td>2831</td>\n",
              "      <td>Customer</td>\n",
              "      <td>NaN</td>\n",
              "      <td>NaN</td>\n",
              "    </tr>\n",
              "    <tr>\n",
              "      <th>4</th>\n",
              "      <td>43603</td>\n",
              "      <td>2017-12-31 14:23:14.0010</td>\n",
              "      <td>2018-01-01 02:29:57.5710</td>\n",
              "      <td>239</td>\n",
              "      <td>Bancroft Way at Telegraph Ave</td>\n",
              "      <td>37.868813</td>\n",
              "      <td>-122.258764</td>\n",
              "      <td>247</td>\n",
              "      <td>Fulton St at Bancroft Way</td>\n",
              "      <td>37.867789</td>\n",
              "      <td>-122.265896</td>\n",
              "      <td>3167</td>\n",
              "      <td>Subscriber</td>\n",
              "      <td>1997.0</td>\n",
              "      <td>Female</td>\n",
              "    </tr>\n",
              "  </tbody>\n",
              "</table>\n",
              "</div>"
            ],
            "text/plain": [
              "   duration_sec                start_time  ... member_birth_year  member_gender\n",
              "0         80110  2017-12-31 16:57:39.6540  ...            1987.0           Male\n",
              "1         78800  2017-12-31 15:56:34.8420  ...            1965.0         Female\n",
              "2         45768  2017-12-31 22:45:48.4110  ...               NaN            NaN\n",
              "3         62172  2017-12-31 17:31:10.6360  ...               NaN            NaN\n",
              "4         43603  2017-12-31 14:23:14.0010  ...            1997.0         Female\n",
              "\n",
              "[5 rows x 15 columns]"
            ]
          },
          "metadata": {
            "tags": []
          },
          "execution_count": 5
        }
      ]
    },
    {
      "cell_type": "code",
      "metadata": {
        "id": "Tt0U-Hf5YrNa",
        "colab_type": "code",
        "outputId": "a140b44e-a3e6-47bd-acf8-982a3323686a",
        "colab": {
          "base_uri": "https://localhost:8080/",
          "height": 35
        }
      },
      "source": [
        "df.shape"
      ],
      "execution_count": 6,
      "outputs": [
        {
          "output_type": "execute_result",
          "data": {
            "text/plain": [
              "(519700, 15)"
            ]
          },
          "metadata": {
            "tags": []
          },
          "execution_count": 6
        }
      ]
    },
    {
      "cell_type": "code",
      "metadata": {
        "id": "PRjH6lgzYrNf",
        "colab_type": "code",
        "outputId": "6f21442f-8bd8-471c-d4f1-aeed13baad78",
        "colab": {
          "base_uri": "https://localhost:8080/",
          "height": 308
        }
      },
      "source": [
        "df.describe()"
      ],
      "execution_count": 7,
      "outputs": [
        {
          "output_type": "execute_result",
          "data": {
            "text/html": [
              "<div>\n",
              "<style scoped>\n",
              "    .dataframe tbody tr th:only-of-type {\n",
              "        vertical-align: middle;\n",
              "    }\n",
              "\n",
              "    .dataframe tbody tr th {\n",
              "        vertical-align: top;\n",
              "    }\n",
              "\n",
              "    .dataframe thead th {\n",
              "        text-align: right;\n",
              "    }\n",
              "</style>\n",
              "<table border=\"1\" class=\"dataframe\">\n",
              "  <thead>\n",
              "    <tr style=\"text-align: right;\">\n",
              "      <th></th>\n",
              "      <th>duration_sec</th>\n",
              "      <th>start_station_id</th>\n",
              "      <th>start_station_latitude</th>\n",
              "      <th>start_station_longitude</th>\n",
              "      <th>end_station_id</th>\n",
              "      <th>end_station_latitude</th>\n",
              "      <th>end_station_longitude</th>\n",
              "      <th>bike_id</th>\n",
              "      <th>member_birth_year</th>\n",
              "    </tr>\n",
              "  </thead>\n",
              "  <tbody>\n",
              "    <tr>\n",
              "      <th>count</th>\n",
              "      <td>519700.000000</td>\n",
              "      <td>519700.000000</td>\n",
              "      <td>519700.000000</td>\n",
              "      <td>519700.000000</td>\n",
              "      <td>519700.000000</td>\n",
              "      <td>519700.000000</td>\n",
              "      <td>519700.000000</td>\n",
              "      <td>519700.000000</td>\n",
              "      <td>453159.000000</td>\n",
              "    </tr>\n",
              "    <tr>\n",
              "      <th>mean</th>\n",
              "      <td>1099.009521</td>\n",
              "      <td>95.034245</td>\n",
              "      <td>37.771653</td>\n",
              "      <td>-122.363927</td>\n",
              "      <td>92.184041</td>\n",
              "      <td>37.771844</td>\n",
              "      <td>-122.363236</td>\n",
              "      <td>1672.533079</td>\n",
              "      <td>1980.404787</td>\n",
              "    </tr>\n",
              "    <tr>\n",
              "      <th>std</th>\n",
              "      <td>3444.146451</td>\n",
              "      <td>86.083078</td>\n",
              "      <td>0.086305</td>\n",
              "      <td>0.105573</td>\n",
              "      <td>84.969491</td>\n",
              "      <td>0.086224</td>\n",
              "      <td>0.105122</td>\n",
              "      <td>971.356959</td>\n",
              "      <td>10.513488</td>\n",
              "    </tr>\n",
              "    <tr>\n",
              "      <th>min</th>\n",
              "      <td>61.000000</td>\n",
              "      <td>3.000000</td>\n",
              "      <td>37.317298</td>\n",
              "      <td>-122.444293</td>\n",
              "      <td>3.000000</td>\n",
              "      <td>37.317298</td>\n",
              "      <td>-122.444293</td>\n",
              "      <td>10.000000</td>\n",
              "      <td>1886.000000</td>\n",
              "    </tr>\n",
              "    <tr>\n",
              "      <th>25%</th>\n",
              "      <td>382.000000</td>\n",
              "      <td>24.000000</td>\n",
              "      <td>37.773492</td>\n",
              "      <td>-122.411726</td>\n",
              "      <td>23.000000</td>\n",
              "      <td>37.774520</td>\n",
              "      <td>-122.410345</td>\n",
              "      <td>787.000000</td>\n",
              "      <td>1974.000000</td>\n",
              "    </tr>\n",
              "    <tr>\n",
              "      <th>50%</th>\n",
              "      <td>596.000000</td>\n",
              "      <td>67.000000</td>\n",
              "      <td>37.783521</td>\n",
              "      <td>-122.398870</td>\n",
              "      <td>66.000000</td>\n",
              "      <td>37.783830</td>\n",
              "      <td>-122.398525</td>\n",
              "      <td>1728.500000</td>\n",
              "      <td>1983.000000</td>\n",
              "    </tr>\n",
              "    <tr>\n",
              "      <th>75%</th>\n",
              "      <td>938.000000</td>\n",
              "      <td>139.000000</td>\n",
              "      <td>37.795392</td>\n",
              "      <td>-122.391034</td>\n",
              "      <td>134.000000</td>\n",
              "      <td>37.795392</td>\n",
              "      <td>-122.391034</td>\n",
              "      <td>2520.000000</td>\n",
              "      <td>1988.000000</td>\n",
              "    </tr>\n",
              "    <tr>\n",
              "      <th>max</th>\n",
              "      <td>86369.000000</td>\n",
              "      <td>340.000000</td>\n",
              "      <td>37.880222</td>\n",
              "      <td>-121.874119</td>\n",
              "      <td>340.000000</td>\n",
              "      <td>37.880222</td>\n",
              "      <td>-121.874119</td>\n",
              "      <td>3733.000000</td>\n",
              "      <td>1999.000000</td>\n",
              "    </tr>\n",
              "  </tbody>\n",
              "</table>\n",
              "</div>"
            ],
            "text/plain": [
              "        duration_sec  start_station_id  ...        bike_id  member_birth_year\n",
              "count  519700.000000     519700.000000  ...  519700.000000      453159.000000\n",
              "mean     1099.009521         95.034245  ...    1672.533079        1980.404787\n",
              "std      3444.146451         86.083078  ...     971.356959          10.513488\n",
              "min        61.000000          3.000000  ...      10.000000        1886.000000\n",
              "25%       382.000000         24.000000  ...     787.000000        1974.000000\n",
              "50%       596.000000         67.000000  ...    1728.500000        1983.000000\n",
              "75%       938.000000        139.000000  ...    2520.000000        1988.000000\n",
              "max     86369.000000        340.000000  ...    3733.000000        1999.000000\n",
              "\n",
              "[8 rows x 9 columns]"
            ]
          },
          "metadata": {
            "tags": []
          },
          "execution_count": 7
        }
      ]
    },
    {
      "cell_type": "code",
      "metadata": {
        "id": "98VRDqT2YrNj",
        "colab_type": "code",
        "outputId": "a700b95d-3d88-4beb-9efe-07d54d552bf2",
        "colab": {
          "base_uri": "https://localhost:8080/",
          "height": 593
        }
      },
      "source": [
        "df.sample(10)"
      ],
      "execution_count": 8,
      "outputs": [
        {
          "output_type": "execute_result",
          "data": {
            "text/html": [
              "<div>\n",
              "<style scoped>\n",
              "    .dataframe tbody tr th:only-of-type {\n",
              "        vertical-align: middle;\n",
              "    }\n",
              "\n",
              "    .dataframe tbody tr th {\n",
              "        vertical-align: top;\n",
              "    }\n",
              "\n",
              "    .dataframe thead th {\n",
              "        text-align: right;\n",
              "    }\n",
              "</style>\n",
              "<table border=\"1\" class=\"dataframe\">\n",
              "  <thead>\n",
              "    <tr style=\"text-align: right;\">\n",
              "      <th></th>\n",
              "      <th>duration_sec</th>\n",
              "      <th>start_time</th>\n",
              "      <th>end_time</th>\n",
              "      <th>start_station_id</th>\n",
              "      <th>start_station_name</th>\n",
              "      <th>start_station_latitude</th>\n",
              "      <th>start_station_longitude</th>\n",
              "      <th>end_station_id</th>\n",
              "      <th>end_station_name</th>\n",
              "      <th>end_station_latitude</th>\n",
              "      <th>end_station_longitude</th>\n",
              "      <th>bike_id</th>\n",
              "      <th>user_type</th>\n",
              "      <th>member_birth_year</th>\n",
              "      <th>member_gender</th>\n",
              "    </tr>\n",
              "  </thead>\n",
              "  <tbody>\n",
              "    <tr>\n",
              "      <th>498838</th>\n",
              "      <td>1672</td>\n",
              "      <td>2017-07-17 19:43:01.8300</td>\n",
              "      <td>2017-07-17 20:10:54.6140</td>\n",
              "      <td>48</td>\n",
              "      <td>2nd St at S Park St</td>\n",
              "      <td>37.782411</td>\n",
              "      <td>-122.392706</td>\n",
              "      <td>21</td>\n",
              "      <td>Montgomery St BART Station (Market St at 2nd St)</td>\n",
              "      <td>37.789625</td>\n",
              "      <td>-122.400811</td>\n",
              "      <td>395</td>\n",
              "      <td>Subscriber</td>\n",
              "      <td>1990.0</td>\n",
              "      <td>Male</td>\n",
              "    </tr>\n",
              "    <tr>\n",
              "      <th>439135</th>\n",
              "      <td>801</td>\n",
              "      <td>2017-08-15 08:23:36.2870</td>\n",
              "      <td>2017-08-15 08:36:58.0050</td>\n",
              "      <td>48</td>\n",
              "      <td>2nd St at S Park St</td>\n",
              "      <td>37.782411</td>\n",
              "      <td>-122.392706</td>\n",
              "      <td>58</td>\n",
              "      <td>Market St at 10th St</td>\n",
              "      <td>37.776619</td>\n",
              "      <td>-122.417385</td>\n",
              "      <td>2540</td>\n",
              "      <td>Subscriber</td>\n",
              "      <td>1974.0</td>\n",
              "      <td>Male</td>\n",
              "    </tr>\n",
              "    <tr>\n",
              "      <th>419541</th>\n",
              "      <td>504</td>\n",
              "      <td>2017-08-22 09:51:56.5600</td>\n",
              "      <td>2017-08-22 10:00:21.3410</td>\n",
              "      <td>5</td>\n",
              "      <td>Powell St BART Station (Market St at 5th St)</td>\n",
              "      <td>37.783899</td>\n",
              "      <td>-122.408445</td>\n",
              "      <td>90</td>\n",
              "      <td>Townsend St at 7th St</td>\n",
              "      <td>37.771058</td>\n",
              "      <td>-122.402717</td>\n",
              "      <td>2751</td>\n",
              "      <td>Subscriber</td>\n",
              "      <td>1977.0</td>\n",
              "      <td>Male</td>\n",
              "    </tr>\n",
              "    <tr>\n",
              "      <th>303120</th>\n",
              "      <td>161</td>\n",
              "      <td>2017-09-27 16:27:47.2510</td>\n",
              "      <td>2017-09-27 16:30:29.0850</td>\n",
              "      <td>23</td>\n",
              "      <td>The Embarcadero at Steuart St</td>\n",
              "      <td>37.791464</td>\n",
              "      <td>-122.391034</td>\n",
              "      <td>28</td>\n",
              "      <td>The Embarcadero at Bryant St</td>\n",
              "      <td>37.787168</td>\n",
              "      <td>-122.388098</td>\n",
              "      <td>2498</td>\n",
              "      <td>Subscriber</td>\n",
              "      <td>1981.0</td>\n",
              "      <td>Male</td>\n",
              "    </tr>\n",
              "    <tr>\n",
              "      <th>333739</th>\n",
              "      <td>629</td>\n",
              "      <td>2017-09-18 20:55:39.0310</td>\n",
              "      <td>2017-09-18 21:06:08.5040</td>\n",
              "      <td>141</td>\n",
              "      <td>Valencia St at Cesar Chavez St</td>\n",
              "      <td>37.747998</td>\n",
              "      <td>-122.420219</td>\n",
              "      <td>122</td>\n",
              "      <td>19th St at Mission St</td>\n",
              "      <td>37.760299</td>\n",
              "      <td>-122.418892</td>\n",
              "      <td>1345</td>\n",
              "      <td>Subscriber</td>\n",
              "      <td>1961.0</td>\n",
              "      <td>Male</td>\n",
              "    </tr>\n",
              "    <tr>\n",
              "      <th>333812</th>\n",
              "      <td>168</td>\n",
              "      <td>2017-09-18 20:25:21.9430</td>\n",
              "      <td>2017-09-18 20:28:10.8920</td>\n",
              "      <td>109</td>\n",
              "      <td>17th St at Valencia St</td>\n",
              "      <td>37.763316</td>\n",
              "      <td>-122.421904</td>\n",
              "      <td>121</td>\n",
              "      <td>Mission Playground</td>\n",
              "      <td>37.759210</td>\n",
              "      <td>-122.421339</td>\n",
              "      <td>2911</td>\n",
              "      <td>Subscriber</td>\n",
              "      <td>1989.0</td>\n",
              "      <td>Male</td>\n",
              "    </tr>\n",
              "    <tr>\n",
              "      <th>241204</th>\n",
              "      <td>891</td>\n",
              "      <td>2017-10-15 16:14:41.6480</td>\n",
              "      <td>2017-10-15 16:29:32.7920</td>\n",
              "      <td>10</td>\n",
              "      <td>Washington St at Kearny St</td>\n",
              "      <td>37.795393</td>\n",
              "      <td>-122.404770</td>\n",
              "      <td>81</td>\n",
              "      <td>Berry St at 4th St</td>\n",
              "      <td>37.775880</td>\n",
              "      <td>-122.393170</td>\n",
              "      <td>2760</td>\n",
              "      <td>Subscriber</td>\n",
              "      <td>1991.0</td>\n",
              "      <td>Male</td>\n",
              "    </tr>\n",
              "    <tr>\n",
              "      <th>467142</th>\n",
              "      <td>275</td>\n",
              "      <td>2017-08-03 11:44:54.0510</td>\n",
              "      <td>2017-08-03 11:49:29.7370</td>\n",
              "      <td>44</td>\n",
              "      <td>Civic Center/UN Plaza BART Station (Market St ...</td>\n",
              "      <td>37.781074</td>\n",
              "      <td>-122.411738</td>\n",
              "      <td>20</td>\n",
              "      <td>Mechanics Monument Plaza (Market St at Bush St)</td>\n",
              "      <td>37.791300</td>\n",
              "      <td>-122.399051</td>\n",
              "      <td>21</td>\n",
              "      <td>Subscriber</td>\n",
              "      <td>1981.0</td>\n",
              "      <td>Male</td>\n",
              "    </tr>\n",
              "    <tr>\n",
              "      <th>57794</th>\n",
              "      <td>236</td>\n",
              "      <td>2017-12-08 19:14:55.9520</td>\n",
              "      <td>2017-12-08 19:18:52.5690</td>\n",
              "      <td>134</td>\n",
              "      <td>Valencia St at 24th St</td>\n",
              "      <td>37.752428</td>\n",
              "      <td>-122.420628</td>\n",
              "      <td>109</td>\n",
              "      <td>17th St at Valencia St</td>\n",
              "      <td>37.763316</td>\n",
              "      <td>-122.421904</td>\n",
              "      <td>3020</td>\n",
              "      <td>Subscriber</td>\n",
              "      <td>1981.0</td>\n",
              "      <td>Male</td>\n",
              "    </tr>\n",
              "    <tr>\n",
              "      <th>146326</th>\n",
              "      <td>512</td>\n",
              "      <td>2017-11-10 17:11:28.3500</td>\n",
              "      <td>2017-11-10 17:20:00.8510</td>\n",
              "      <td>21</td>\n",
              "      <td>Montgomery St BART Station (Market St at 2nd St)</td>\n",
              "      <td>37.789625</td>\n",
              "      <td>-122.400811</td>\n",
              "      <td>30</td>\n",
              "      <td>San Francisco Caltrain (Townsend St at 4th St)</td>\n",
              "      <td>37.776598</td>\n",
              "      <td>-122.395282</td>\n",
              "      <td>1245</td>\n",
              "      <td>Subscriber</td>\n",
              "      <td>1961.0</td>\n",
              "      <td>Male</td>\n",
              "    </tr>\n",
              "  </tbody>\n",
              "</table>\n",
              "</div>"
            ],
            "text/plain": [
              "        duration_sec                start_time  ... member_birth_year  member_gender\n",
              "498838          1672  2017-07-17 19:43:01.8300  ...            1990.0           Male\n",
              "439135           801  2017-08-15 08:23:36.2870  ...            1974.0           Male\n",
              "419541           504  2017-08-22 09:51:56.5600  ...            1977.0           Male\n",
              "303120           161  2017-09-27 16:27:47.2510  ...            1981.0           Male\n",
              "333739           629  2017-09-18 20:55:39.0310  ...            1961.0           Male\n",
              "333812           168  2017-09-18 20:25:21.9430  ...            1989.0           Male\n",
              "241204           891  2017-10-15 16:14:41.6480  ...            1991.0           Male\n",
              "467142           275  2017-08-03 11:44:54.0510  ...            1981.0           Male\n",
              "57794            236  2017-12-08 19:14:55.9520  ...            1981.0           Male\n",
              "146326           512  2017-11-10 17:11:28.3500  ...            1961.0           Male\n",
              "\n",
              "[10 rows x 15 columns]"
            ]
          },
          "metadata": {
            "tags": []
          },
          "execution_count": 8
        }
      ]
    },
    {
      "cell_type": "code",
      "metadata": {
        "id": "XSz06HJuYrNm",
        "colab_type": "code",
        "outputId": "f980cb41-e12e-47de-bf7c-afa6602ba34c",
        "colab": {
          "base_uri": "https://localhost:8080/",
          "height": 381
        }
      },
      "source": [
        "df.info()"
      ],
      "execution_count": 9,
      "outputs": [
        {
          "output_type": "stream",
          "text": [
            "<class 'pandas.core.frame.DataFrame'>\n",
            "RangeIndex: 519700 entries, 0 to 519699\n",
            "Data columns (total 15 columns):\n",
            "duration_sec               519700 non-null int64\n",
            "start_time                 519700 non-null object\n",
            "end_time                   519700 non-null object\n",
            "start_station_id           519700 non-null int64\n",
            "start_station_name         519700 non-null object\n",
            "start_station_latitude     519700 non-null float64\n",
            "start_station_longitude    519700 non-null float64\n",
            "end_station_id             519700 non-null int64\n",
            "end_station_name           519700 non-null object\n",
            "end_station_latitude       519700 non-null float64\n",
            "end_station_longitude      519700 non-null float64\n",
            "bike_id                    519700 non-null int64\n",
            "user_type                  519700 non-null object\n",
            "member_birth_year          453159 non-null float64\n",
            "member_gender              453238 non-null object\n",
            "dtypes: float64(5), int64(4), object(6)\n",
            "memory usage: 59.5+ MB\n"
          ],
          "name": "stdout"
        }
      ]
    },
    {
      "cell_type": "markdown",
      "metadata": {
        "id": "ByJWf1oQYrNv",
        "colab_type": "text"
      },
      "source": [
        "## Data Cleaning"
      ]
    },
    {
      "cell_type": "code",
      "metadata": {
        "id": "ayA3TpApYrNy",
        "colab_type": "code",
        "colab": {}
      },
      "source": [
        "df_clean = df.copy()"
      ],
      "execution_count": 0,
      "outputs": []
    },
    {
      "cell_type": "markdown",
      "metadata": {
        "id": "rvqAhpxNYrN2",
        "colab_type": "text"
      },
      "source": [
        "Missing "
      ]
    },
    {
      "cell_type": "code",
      "metadata": {
        "id": "UCRXaSHnYrN3",
        "colab_type": "code",
        "colab": {}
      },
      "source": [
        "# Change the format \n",
        "df_clean.start_time = pd.to_datetime(df_clean.start_time)\n",
        "df_clean.end_time = pd.to_datetime(df_clean.end_time)"
      ],
      "execution_count": 0,
      "outputs": []
    },
    {
      "cell_type": "code",
      "metadata": {
        "id": "aQYMlK4RYrN8",
        "colab_type": "code",
        "colab": {}
      },
      "source": [
        "df_clean.user_type = df_clean.user_type.astype('category')\n",
        "df_clean.member_gender = df_clean.member_gender.astype('category')"
      ],
      "execution_count": 0,
      "outputs": []
    },
    {
      "cell_type": "code",
      "metadata": {
        "id": "RCw_sPFSYrOA",
        "colab_type": "code",
        "colab": {}
      },
      "source": [
        "\n",
        "def change_to_string(df,fields):\n",
        "    for field in fields:\n",
        "        df[field] = df[field].astype(np.object)\n",
        "    return df"
      ],
      "execution_count": 0,
      "outputs": []
    },
    {
      "cell_type": "code",
      "metadata": {
        "id": "d1j8zA-TYrOH",
        "colab_type": "code",
        "colab": {}
      },
      "source": [
        "df_clean = change_to_string (df_clean,['start_station_id', 'end_station_id','bike_id'])"
      ],
      "execution_count": 0,
      "outputs": []
    },
    {
      "cell_type": "code",
      "metadata": {
        "id": "BKWRubcxYrOP",
        "colab_type": "code",
        "outputId": "d25da58c-6993-4313-fb4c-a3bc69698b7a",
        "colab": {
          "base_uri": "https://localhost:8080/",
          "height": 381
        }
      },
      "source": [
        "df_clean.info(null_counts = True)"
      ],
      "execution_count": 15,
      "outputs": [
        {
          "output_type": "stream",
          "text": [
            "<class 'pandas.core.frame.DataFrame'>\n",
            "RangeIndex: 519700 entries, 0 to 519699\n",
            "Data columns (total 15 columns):\n",
            "duration_sec               519700 non-null int64\n",
            "start_time                 519700 non-null datetime64[ns]\n",
            "end_time                   519700 non-null datetime64[ns]\n",
            "start_station_id           519700 non-null object\n",
            "start_station_name         519700 non-null object\n",
            "start_station_latitude     519700 non-null float64\n",
            "start_station_longitude    519700 non-null float64\n",
            "end_station_id             519700 non-null object\n",
            "end_station_name           519700 non-null object\n",
            "end_station_latitude       519700 non-null float64\n",
            "end_station_longitude      519700 non-null float64\n",
            "bike_id                    519700 non-null object\n",
            "user_type                  519700 non-null category\n",
            "member_birth_year          453159 non-null float64\n",
            "member_gender              453238 non-null category\n",
            "dtypes: category(2), datetime64[ns](2), float64(5), int64(1), object(5)\n",
            "memory usage: 52.5+ MB\n"
          ],
          "name": "stdout"
        }
      ]
    },
    {
      "cell_type": "code",
      "metadata": {
        "id": "lDF4CYWhYrOV",
        "colab_type": "code",
        "colab": {}
      },
      "source": [
        "# Member age\n",
        "df_clean['member_age'] = 2019 - df_clean['member_birth_year']"
      ],
      "execution_count": 0,
      "outputs": []
    },
    {
      "cell_type": "code",
      "metadata": {
        "id": "aA8RVp2pYrOZ",
        "colab_type": "code",
        "outputId": "ee6d8ea1-5316-43d7-91cb-571f3288fa7a",
        "colab": {
          "base_uri": "https://localhost:8080/",
          "height": 339
        }
      },
      "source": [
        "df_clean.head()"
      ],
      "execution_count": 17,
      "outputs": [
        {
          "output_type": "execute_result",
          "data": {
            "text/html": [
              "<div>\n",
              "<style scoped>\n",
              "    .dataframe tbody tr th:only-of-type {\n",
              "        vertical-align: middle;\n",
              "    }\n",
              "\n",
              "    .dataframe tbody tr th {\n",
              "        vertical-align: top;\n",
              "    }\n",
              "\n",
              "    .dataframe thead th {\n",
              "        text-align: right;\n",
              "    }\n",
              "</style>\n",
              "<table border=\"1\" class=\"dataframe\">\n",
              "  <thead>\n",
              "    <tr style=\"text-align: right;\">\n",
              "      <th></th>\n",
              "      <th>duration_sec</th>\n",
              "      <th>start_time</th>\n",
              "      <th>end_time</th>\n",
              "      <th>start_station_id</th>\n",
              "      <th>start_station_name</th>\n",
              "      <th>start_station_latitude</th>\n",
              "      <th>start_station_longitude</th>\n",
              "      <th>end_station_id</th>\n",
              "      <th>end_station_name</th>\n",
              "      <th>end_station_latitude</th>\n",
              "      <th>end_station_longitude</th>\n",
              "      <th>bike_id</th>\n",
              "      <th>user_type</th>\n",
              "      <th>member_birth_year</th>\n",
              "      <th>member_gender</th>\n",
              "      <th>member_age</th>\n",
              "    </tr>\n",
              "  </thead>\n",
              "  <tbody>\n",
              "    <tr>\n",
              "      <th>0</th>\n",
              "      <td>80110</td>\n",
              "      <td>2017-12-31 16:57:39.654</td>\n",
              "      <td>2018-01-01 15:12:50.245</td>\n",
              "      <td>74</td>\n",
              "      <td>Laguna St at Hayes St</td>\n",
              "      <td>37.776435</td>\n",
              "      <td>-122.426244</td>\n",
              "      <td>43</td>\n",
              "      <td>San Francisco Public Library (Grove St at Hyde...</td>\n",
              "      <td>37.778768</td>\n",
              "      <td>-122.415929</td>\n",
              "      <td>96</td>\n",
              "      <td>Customer</td>\n",
              "      <td>1987.0</td>\n",
              "      <td>Male</td>\n",
              "      <td>32.0</td>\n",
              "    </tr>\n",
              "    <tr>\n",
              "      <th>1</th>\n",
              "      <td>78800</td>\n",
              "      <td>2017-12-31 15:56:34.842</td>\n",
              "      <td>2018-01-01 13:49:55.617</td>\n",
              "      <td>284</td>\n",
              "      <td>Yerba Buena Center for the Arts (Howard St at ...</td>\n",
              "      <td>37.784872</td>\n",
              "      <td>-122.400876</td>\n",
              "      <td>96</td>\n",
              "      <td>Dolores St at 15th St</td>\n",
              "      <td>37.766210</td>\n",
              "      <td>-122.426614</td>\n",
              "      <td>88</td>\n",
              "      <td>Customer</td>\n",
              "      <td>1965.0</td>\n",
              "      <td>Female</td>\n",
              "      <td>54.0</td>\n",
              "    </tr>\n",
              "    <tr>\n",
              "      <th>2</th>\n",
              "      <td>45768</td>\n",
              "      <td>2017-12-31 22:45:48.411</td>\n",
              "      <td>2018-01-01 11:28:36.883</td>\n",
              "      <td>245</td>\n",
              "      <td>Downtown Berkeley BART</td>\n",
              "      <td>37.870348</td>\n",
              "      <td>-122.267764</td>\n",
              "      <td>245</td>\n",
              "      <td>Downtown Berkeley BART</td>\n",
              "      <td>37.870348</td>\n",
              "      <td>-122.267764</td>\n",
              "      <td>1094</td>\n",
              "      <td>Customer</td>\n",
              "      <td>NaN</td>\n",
              "      <td>NaN</td>\n",
              "      <td>NaN</td>\n",
              "    </tr>\n",
              "    <tr>\n",
              "      <th>3</th>\n",
              "      <td>62172</td>\n",
              "      <td>2017-12-31 17:31:10.636</td>\n",
              "      <td>2018-01-01 10:47:23.531</td>\n",
              "      <td>60</td>\n",
              "      <td>8th St at Ringold St</td>\n",
              "      <td>37.774520</td>\n",
              "      <td>-122.409449</td>\n",
              "      <td>5</td>\n",
              "      <td>Powell St BART Station (Market St at 5th St)</td>\n",
              "      <td>37.783899</td>\n",
              "      <td>-122.408445</td>\n",
              "      <td>2831</td>\n",
              "      <td>Customer</td>\n",
              "      <td>NaN</td>\n",
              "      <td>NaN</td>\n",
              "      <td>NaN</td>\n",
              "    </tr>\n",
              "    <tr>\n",
              "      <th>4</th>\n",
              "      <td>43603</td>\n",
              "      <td>2017-12-31 14:23:14.001</td>\n",
              "      <td>2018-01-01 02:29:57.571</td>\n",
              "      <td>239</td>\n",
              "      <td>Bancroft Way at Telegraph Ave</td>\n",
              "      <td>37.868813</td>\n",
              "      <td>-122.258764</td>\n",
              "      <td>247</td>\n",
              "      <td>Fulton St at Bancroft Way</td>\n",
              "      <td>37.867789</td>\n",
              "      <td>-122.265896</td>\n",
              "      <td>3167</td>\n",
              "      <td>Subscriber</td>\n",
              "      <td>1997.0</td>\n",
              "      <td>Female</td>\n",
              "      <td>22.0</td>\n",
              "    </tr>\n",
              "  </tbody>\n",
              "</table>\n",
              "</div>"
            ],
            "text/plain": [
              "   duration_sec              start_time  ... member_gender member_age\n",
              "0         80110 2017-12-31 16:57:39.654  ...          Male       32.0\n",
              "1         78800 2017-12-31 15:56:34.842  ...        Female       54.0\n",
              "2         45768 2017-12-31 22:45:48.411  ...           NaN        NaN\n",
              "3         62172 2017-12-31 17:31:10.636  ...           NaN        NaN\n",
              "4         43603 2017-12-31 14:23:14.001  ...        Female       22.0\n",
              "\n",
              "[5 rows x 16 columns]"
            ]
          },
          "metadata": {
            "tags": []
          },
          "execution_count": 17
        }
      ]
    },
    {
      "cell_type": "code",
      "metadata": {
        "id": "XTNEd9OrYrOf",
        "colab_type": "code",
        "outputId": "2167fcb0-590c-406f-ea16-07219b051836",
        "colab": {
          "base_uri": "https://localhost:8080/",
          "height": 35
        }
      },
      "source": [
        "#Member average age\n",
        "df_clean.member_age.mean()"
      ],
      "execution_count": 18,
      "outputs": [
        {
          "output_type": "execute_result",
          "data": {
            "text/plain": [
              "38.595212717831934"
            ]
          },
          "metadata": {
            "tags": []
          },
          "execution_count": 18
        }
      ]
    },
    {
      "cell_type": "code",
      "metadata": {
        "id": "lD8BZwLSYrOi",
        "colab_type": "code",
        "outputId": "276dd634-8091-403b-e52c-82b77b7f2b4a",
        "colab": {
          "base_uri": "https://localhost:8080/",
          "height": 181
        }
      },
      "source": [
        "df_clean.member_age.describe()"
      ],
      "execution_count": 19,
      "outputs": [
        {
          "output_type": "execute_result",
          "data": {
            "text/plain": [
              "count    453159.000000\n",
              "mean         38.595213\n",
              "std          10.513488\n",
              "min          20.000000\n",
              "25%          31.000000\n",
              "50%          36.000000\n",
              "75%          45.000000\n",
              "max         133.000000\n",
              "Name: member_age, dtype: float64"
            ]
          },
          "metadata": {
            "tags": []
          },
          "execution_count": 19
        }
      ]
    },
    {
      "cell_type": "code",
      "metadata": {
        "id": "TbzO0NgOYrOn",
        "colab_type": "code",
        "outputId": "1c3a0780-b2a2-48f4-aca0-6cbee014e30d",
        "colab": {
          "base_uri": "https://localhost:8080/",
          "height": 322
        }
      },
      "source": [
        "df_clean.sample(5)"
      ],
      "execution_count": 20,
      "outputs": [
        {
          "output_type": "execute_result",
          "data": {
            "text/html": [
              "<div>\n",
              "<style scoped>\n",
              "    .dataframe tbody tr th:only-of-type {\n",
              "        vertical-align: middle;\n",
              "    }\n",
              "\n",
              "    .dataframe tbody tr th {\n",
              "        vertical-align: top;\n",
              "    }\n",
              "\n",
              "    .dataframe thead th {\n",
              "        text-align: right;\n",
              "    }\n",
              "</style>\n",
              "<table border=\"1\" class=\"dataframe\">\n",
              "  <thead>\n",
              "    <tr style=\"text-align: right;\">\n",
              "      <th></th>\n",
              "      <th>duration_sec</th>\n",
              "      <th>start_time</th>\n",
              "      <th>end_time</th>\n",
              "      <th>start_station_id</th>\n",
              "      <th>start_station_name</th>\n",
              "      <th>start_station_latitude</th>\n",
              "      <th>start_station_longitude</th>\n",
              "      <th>end_station_id</th>\n",
              "      <th>end_station_name</th>\n",
              "      <th>end_station_latitude</th>\n",
              "      <th>end_station_longitude</th>\n",
              "      <th>bike_id</th>\n",
              "      <th>user_type</th>\n",
              "      <th>member_birth_year</th>\n",
              "      <th>member_gender</th>\n",
              "      <th>member_age</th>\n",
              "    </tr>\n",
              "  </thead>\n",
              "  <tbody>\n",
              "    <tr>\n",
              "      <th>496846</th>\n",
              "      <td>459</td>\n",
              "      <td>2017-07-19 06:48:18.155</td>\n",
              "      <td>2017-07-19 06:55:58.055</td>\n",
              "      <td>26</td>\n",
              "      <td>1st St at Folsom St</td>\n",
              "      <td>37.787290</td>\n",
              "      <td>-122.394380</td>\n",
              "      <td>45</td>\n",
              "      <td>5th St at Howard St</td>\n",
              "      <td>37.781752</td>\n",
              "      <td>-122.405127</td>\n",
              "      <td>42</td>\n",
              "      <td>Subscriber</td>\n",
              "      <td>1969.0</td>\n",
              "      <td>Male</td>\n",
              "      <td>50.0</td>\n",
              "    </tr>\n",
              "    <tr>\n",
              "      <th>74347</th>\n",
              "      <td>447</td>\n",
              "      <td>2017-12-04 23:45:30.668</td>\n",
              "      <td>2017-12-04 23:52:57.987</td>\n",
              "      <td>81</td>\n",
              "      <td>Berry St at 4th St</td>\n",
              "      <td>37.775880</td>\n",
              "      <td>-122.393170</td>\n",
              "      <td>321</td>\n",
              "      <td>5th at Folsom</td>\n",
              "      <td>37.780146</td>\n",
              "      <td>-122.403071</td>\n",
              "      <td>3384</td>\n",
              "      <td>Subscriber</td>\n",
              "      <td>1993.0</td>\n",
              "      <td>Male</td>\n",
              "      <td>26.0</td>\n",
              "    </tr>\n",
              "    <tr>\n",
              "      <th>55956</th>\n",
              "      <td>143</td>\n",
              "      <td>2017-12-09 16:14:21.191</td>\n",
              "      <td>2017-12-09 16:16:44.653</td>\n",
              "      <td>306</td>\n",
              "      <td>Saint James Park</td>\n",
              "      <td>37.339301</td>\n",
              "      <td>-121.889937</td>\n",
              "      <td>308</td>\n",
              "      <td>San Pedro Square</td>\n",
              "      <td>37.336802</td>\n",
              "      <td>-121.894090</td>\n",
              "      <td>220</td>\n",
              "      <td>Subscriber</td>\n",
              "      <td>1974.0</td>\n",
              "      <td>Male</td>\n",
              "      <td>45.0</td>\n",
              "    </tr>\n",
              "    <tr>\n",
              "      <th>297533</th>\n",
              "      <td>179</td>\n",
              "      <td>2017-09-28 19:58:20.426</td>\n",
              "      <td>2017-09-28 20:01:19.574</td>\n",
              "      <td>127</td>\n",
              "      <td>Valencia St at 21st St</td>\n",
              "      <td>37.756708</td>\n",
              "      <td>-122.421025</td>\n",
              "      <td>98</td>\n",
              "      <td>Valencia St at 16th St</td>\n",
              "      <td>37.765052</td>\n",
              "      <td>-122.421866</td>\n",
              "      <td>1269</td>\n",
              "      <td>Subscriber</td>\n",
              "      <td>1984.0</td>\n",
              "      <td>Male</td>\n",
              "      <td>35.0</td>\n",
              "    </tr>\n",
              "    <tr>\n",
              "      <th>168857</th>\n",
              "      <td>2583</td>\n",
              "      <td>2017-11-04 14:31:53.654</td>\n",
              "      <td>2017-11-04 15:14:56.752</td>\n",
              "      <td>17</td>\n",
              "      <td>Embarcadero BART Station (Beale St at Market St)</td>\n",
              "      <td>37.792251</td>\n",
              "      <td>-122.397086</td>\n",
              "      <td>323</td>\n",
              "      <td>Broadway at Kearny</td>\n",
              "      <td>37.798014</td>\n",
              "      <td>-122.405950</td>\n",
              "      <td>488</td>\n",
              "      <td>Customer</td>\n",
              "      <td>NaN</td>\n",
              "      <td>NaN</td>\n",
              "      <td>NaN</td>\n",
              "    </tr>\n",
              "  </tbody>\n",
              "</table>\n",
              "</div>"
            ],
            "text/plain": [
              "        duration_sec              start_time  ... member_gender member_age\n",
              "496846           459 2017-07-19 06:48:18.155  ...          Male       50.0\n",
              "74347            447 2017-12-04 23:45:30.668  ...          Male       26.0\n",
              "55956            143 2017-12-09 16:14:21.191  ...          Male       45.0\n",
              "297533           179 2017-09-28 19:58:20.426  ...          Male       35.0\n",
              "168857          2583 2017-11-04 14:31:53.654  ...           NaN        NaN\n",
              "\n",
              "[5 rows x 16 columns]"
            ]
          },
          "metadata": {
            "tags": []
          },
          "execution_count": 20
        }
      ]
    },
    {
      "cell_type": "markdown",
      "metadata": {
        "id": "TpEjHuVgYrOw",
        "colab_type": "text"
      },
      "source": [
        "## Calculate the distance between two point"
      ]
    },
    {
      "cell_type": "code",
      "metadata": {
        "id": "zmgr2Ka-YrOy",
        "colab_type": "code",
        "colab": {}
      },
      "source": [
        "# Distance calculated using the https://stackoverflow.com/questions/27928/calculate-distance-between-two-latitude-longitude-points-haversine-formula.\n",
        "import math\n",
        "from math import radians, sin, cos, acos\n",
        "\n",
        "def distance(origin, destination):\n",
        "\n",
        "    lat1, long1 = origin\n",
        "    lat2, long2 = destination\n",
        "    radius = 6371\n",
        "    # this is in kilometers - will convert to US units of miles after\n",
        "\n",
        "    dlat = math.radians(lat2 - lat1)\n",
        "    dlong = math.radians(long2 - long1)\n",
        "    \n",
        "    a = (math.sin(dlat / 2) * math.sin(dlat / 2) + math.cos(math.radians(lat1)) * math.cos(math.radians(lat2)) * math.sin(dlong / 2) * math.sin(dlong / 2))\n",
        "    c = 2 * math.atan2(math.sqrt(a), math.sqrt(1 - a))\n",
        "    d = radius * c\n",
        "\n",
        "    return d"
      ],
      "execution_count": 0,
      "outputs": []
    },
    {
      "cell_type": "code",
      "metadata": {
        "id": "RAnAXHpRYrO8",
        "colab_type": "code",
        "colab": {}
      },
      "source": [
        "# Using the calcuated math on our columns for lat and long\n",
        "df_clean['distance_km'] = df_clean.apply(lambda x: distance((x['start_station_latitude'], x['start_station_longitude']), (x['end_station_latitude'], x['end_station_longitude'])), axis=1)"
      ],
      "execution_count": 0,
      "outputs": []
    },
    {
      "cell_type": "code",
      "metadata": {
        "id": "2LnrOY1ZYrPD",
        "colab_type": "code",
        "outputId": "67e1e612-e3e7-47d4-856b-b2c25b794208",
        "colab": {
          "base_uri": "https://localhost:8080/",
          "height": 305
        }
      },
      "source": [
        "df_clean.sample(5)"
      ],
      "execution_count": 23,
      "outputs": [
        {
          "output_type": "execute_result",
          "data": {
            "text/html": [
              "<div>\n",
              "<style scoped>\n",
              "    .dataframe tbody tr th:only-of-type {\n",
              "        vertical-align: middle;\n",
              "    }\n",
              "\n",
              "    .dataframe tbody tr th {\n",
              "        vertical-align: top;\n",
              "    }\n",
              "\n",
              "    .dataframe thead th {\n",
              "        text-align: right;\n",
              "    }\n",
              "</style>\n",
              "<table border=\"1\" class=\"dataframe\">\n",
              "  <thead>\n",
              "    <tr style=\"text-align: right;\">\n",
              "      <th></th>\n",
              "      <th>duration_sec</th>\n",
              "      <th>start_time</th>\n",
              "      <th>end_time</th>\n",
              "      <th>start_station_id</th>\n",
              "      <th>start_station_name</th>\n",
              "      <th>start_station_latitude</th>\n",
              "      <th>start_station_longitude</th>\n",
              "      <th>end_station_id</th>\n",
              "      <th>end_station_name</th>\n",
              "      <th>end_station_latitude</th>\n",
              "      <th>end_station_longitude</th>\n",
              "      <th>bike_id</th>\n",
              "      <th>user_type</th>\n",
              "      <th>member_birth_year</th>\n",
              "      <th>member_gender</th>\n",
              "      <th>member_age</th>\n",
              "      <th>distance_km</th>\n",
              "    </tr>\n",
              "  </thead>\n",
              "  <tbody>\n",
              "    <tr>\n",
              "      <th>372328</th>\n",
              "      <td>729</td>\n",
              "      <td>2017-09-07 08:39:36.037</td>\n",
              "      <td>2017-09-07 08:51:45.219</td>\n",
              "      <td>312</td>\n",
              "      <td>San Jose Diridon Station</td>\n",
              "      <td>37.329732</td>\n",
              "      <td>-121.901782</td>\n",
              "      <td>309</td>\n",
              "      <td>San Jose City Hall</td>\n",
              "      <td>37.337391</td>\n",
              "      <td>-121.886995</td>\n",
              "      <td>1105</td>\n",
              "      <td>Subscriber</td>\n",
              "      <td>1973.0</td>\n",
              "      <td>Male</td>\n",
              "      <td>46.0</td>\n",
              "      <td>1.560288</td>\n",
              "    </tr>\n",
              "    <tr>\n",
              "      <th>126190</th>\n",
              "      <td>704</td>\n",
              "      <td>2017-11-17 08:30:00.268</td>\n",
              "      <td>2017-11-17 08:41:44.370</td>\n",
              "      <td>42</td>\n",
              "      <td>San Francisco City Hall (Polk St at Grove St)</td>\n",
              "      <td>37.778650</td>\n",
              "      <td>-122.418230</td>\n",
              "      <td>37</td>\n",
              "      <td>2nd St at Folsom St</td>\n",
              "      <td>37.785000</td>\n",
              "      <td>-122.395936</td>\n",
              "      <td>2441</td>\n",
              "      <td>Subscriber</td>\n",
              "      <td>1982.0</td>\n",
              "      <td>Male</td>\n",
              "      <td>37.0</td>\n",
              "      <td>2.082630</td>\n",
              "    </tr>\n",
              "    <tr>\n",
              "      <th>254666</th>\n",
              "      <td>389</td>\n",
              "      <td>2017-10-11 09:17:19.254</td>\n",
              "      <td>2017-10-11 09:23:48.679</td>\n",
              "      <td>109</td>\n",
              "      <td>17th St at Valencia St</td>\n",
              "      <td>37.763316</td>\n",
              "      <td>-122.421904</td>\n",
              "      <td>89</td>\n",
              "      <td>Division St at Potrero Ave</td>\n",
              "      <td>37.769218</td>\n",
              "      <td>-122.407646</td>\n",
              "      <td>1613</td>\n",
              "      <td>Subscriber</td>\n",
              "      <td>1989.0</td>\n",
              "      <td>Male</td>\n",
              "      <td>30.0</td>\n",
              "      <td>1.414753</td>\n",
              "    </tr>\n",
              "    <tr>\n",
              "      <th>197130</th>\n",
              "      <td>609</td>\n",
              "      <td>2017-10-27 10:17:42.991</td>\n",
              "      <td>2017-10-27 10:27:52.831</td>\n",
              "      <td>16</td>\n",
              "      <td>Steuart St at Market St</td>\n",
              "      <td>37.794130</td>\n",
              "      <td>-122.394430</td>\n",
              "      <td>81</td>\n",
              "      <td>Berry St at 4th St</td>\n",
              "      <td>37.775880</td>\n",
              "      <td>-122.393170</td>\n",
              "      <td>1701</td>\n",
              "      <td>Subscriber</td>\n",
              "      <td>1992.0</td>\n",
              "      <td>Male</td>\n",
              "      <td>27.0</td>\n",
              "      <td>2.032326</td>\n",
              "    </tr>\n",
              "    <tr>\n",
              "      <th>351791</th>\n",
              "      <td>270</td>\n",
              "      <td>2017-09-13 13:08:49.945</td>\n",
              "      <td>2017-09-13 13:13:20.856</td>\n",
              "      <td>89</td>\n",
              "      <td>Division St at Potrero Ave</td>\n",
              "      <td>37.769218</td>\n",
              "      <td>-122.407646</td>\n",
              "      <td>64</td>\n",
              "      <td>5th St at Brannan St</td>\n",
              "      <td>37.776754</td>\n",
              "      <td>-122.399018</td>\n",
              "      <td>2910</td>\n",
              "      <td>Subscriber</td>\n",
              "      <td>1993.0</td>\n",
              "      <td>Other</td>\n",
              "      <td>26.0</td>\n",
              "      <td>1.130166</td>\n",
              "    </tr>\n",
              "  </tbody>\n",
              "</table>\n",
              "</div>"
            ],
            "text/plain": [
              "        duration_sec              start_time  ... member_age distance_km\n",
              "372328           729 2017-09-07 08:39:36.037  ...       46.0    1.560288\n",
              "126190           704 2017-11-17 08:30:00.268  ...       37.0    2.082630\n",
              "254666           389 2017-10-11 09:17:19.254  ...       30.0    1.414753\n",
              "197130           609 2017-10-27 10:17:42.991  ...       27.0    2.032326\n",
              "351791           270 2017-09-13 13:08:49.945  ...       26.0    1.130166\n",
              "\n",
              "[5 rows x 17 columns]"
            ]
          },
          "metadata": {
            "tags": []
          },
          "execution_count": 23
        }
      ]
    },
    {
      "cell_type": "markdown",
      "metadata": {
        "id": "w7C1LoKGYrPL",
        "colab_type": "text"
      },
      "source": [
        "### Save the cleaned data set to a new file"
      ]
    },
    {
      "cell_type": "code",
      "metadata": {
        "id": "5IOqFApbYrPN",
        "colab_type": "code",
        "colab": {}
      },
      "source": [
        "df_clean.to_csv('fordgo_master_clean.csv', index = False)"
      ],
      "execution_count": 0,
      "outputs": []
    },
    {
      "cell_type": "markdown",
      "metadata": {
        "id": "TznISQ_GYrPV",
        "colab_type": "text"
      },
      "source": [
        "### What is the structure of your dataset?\n",
        "\n",
        "Trip Duration (seconds)  \n",
        "Start Time and Date  \n",
        "End Time and Date  \n",
        "Start Station ID  \n",
        "Start Station Name   \n",
        "Start Station Latitude   \n",
        "Start Station Longitude   \n",
        "End Station ID   \n",
        "End Station Name   \n",
        "End Station Latitude    \n",
        "End Station Longitude   \n",
        "Bike ID     \n",
        "User Type (Subscriber or Customer – “Subscriber” = Member or “Customer” = Casual)     \n",
        "Member Year of Birth    \n",
        "Member Gender   \n",
        "Member age\n",
        "Distance(km)\n",
        "\n",
        "### What is/are the main feature(s) of interest in your dataset\n",
        "User Type   \n",
        "Member Gender\n",
        "\n",
        "### What features in the dataset do you think will help support your investigation into your feature(s) of interest?\n",
        "\n",
        "Start Station Latitude      \n",
        "Start Station Longitude    \n",
        "End Station Latitude       \n",
        "End Station Longitude"
      ]
    },
    {
      "cell_type": "markdown",
      "metadata": {
        "id": "YTspW0eOYrPX",
        "colab_type": "text"
      },
      "source": [
        "## Univariate Exploration"
      ]
    },
    {
      "cell_type": "code",
      "metadata": {
        "id": "2A61SdWOYrPZ",
        "colab_type": "code",
        "colab": {}
      },
      "source": [
        "# Monthly usage of the Ford Go Bike system\n",
        "graph = sb.catplot(data = df_clean, x = 'start_time', kind = 'count', color = no_color, aspect = 1.7);\n"
      ],
      "execution_count": 0,
      "outputs": []
    },
    {
      "cell_type": "code",
      "metadata": {
        "id": "vUdMiP9AnKSU",
        "colab_type": "code",
        "colab": {}
      },
      "source": [
        "graph.set_axis_labels('Month', 'Number of Bike Trips'),\n",
        "graph.fig.suptitle('Ford GoBike Usage by Month', y = 1.05, fontsize = 16, fontweight = 'bold');\n",
        "\n"
      ],
      "execution_count": 0,
      "outputs": []
    },
    {
      "cell_type": "code",
      "metadata": {
        "id": "tf7bSPl1nOyr",
        "colab_type": "code",
        "colab": {}
      },
      "source": [
        "graph.set_xticklabels(rotation=75)"
      ],
      "execution_count": 0,
      "outputs": []
    },
    {
      "cell_type": "code",
      "metadata": {
        "id": "qb9GaB_dYrPh",
        "colab_type": "code",
        "colab": {}
      },
      "source": [
        "bin_edges = 10 ** np.arange(1.785330, 4.936358 + 0.1, 0.1)\n",
        "ticks = [30,100,300,1000,3000,10000,30000,100000]\n",
        "labls = ['{}'.format(v) for v in ticks]\n",
        "plt.hist(data = df_clean, x ='duration_sec', bins = bin_edges);\n",
        "plt.xscale(\"log\");\n",
        "plt.xticks(ticks,labls);"
      ],
      "execution_count": 0,
      "outputs": []
    },
    {
      "cell_type": "code",
      "metadata": {
        "id": "gzPLDrd8YrPk",
        "colab_type": "code",
        "colab": {}
      },
      "source": [
        "\n",
        "# Age group data\n",
        "bin_edges = np.arange(0, 68, 5)\n",
        "\n",
        "plt.hist(data = df_cleaned, x = 'member_age', bins = bin_edges);\n",
        "\n",
        "plt.title(\"Ford GoBike System User by Age\", y=1.05, fontsize=16, fontweight='bold')\n",
        "plt.xlabel('Age of Members (Years)')\n",
        "plt.ylabel('Number of Bike Trips');"
      ],
      "execution_count": 0,
      "outputs": []
    },
    {
      "cell_type": "code",
      "metadata": {
        "id": "uWasw4kNYrPp",
        "colab_type": "code",
        "colab": {}
      },
      "source": [
        "# Usage by females, males, and other\n",
        "gender = df_clean.member_gender.value_counts()\n",
        "gender\n"
      ],
      "execution_count": 0,
      "outputs": []
    },
    {
      "cell_type": "code",
      "metadata": {
        "id": "x4tFObB3YrPu",
        "colab_type": "code",
        "colab": {}
      },
      "source": [
        "plt.pie(gender, labels = gender.index, startangle = 90, autopct= '%1.1f%%', counterclock = False, textprops={'color':'white'});\n",
        "#plt.axis('square');\n",
        "plt.title('Ford GoBike System User by Gender', y=1.05, fontsize=16, fontweight='bold', color = 'white');"
      ],
      "execution_count": 0,
      "outputs": []
    },
    {
      "cell_type": "markdown",
      "metadata": {
        "id": "McXqyD1RYrP4",
        "colab_type": "text"
      },
      "source": [
        "### Discuss the distribution(s) of your variable(s) of interest. Were there any unusual points? Did you need to perform any transformations?\n",
        "In Univariate Exploration only a single variable is used to find the insight and compare to other.The more number of male gender using the bike. And most travel time by male gender is between 0-500. \n",
        "\n",
        "### Of the features you investigated, were there any unusual distributions?\n",
        ">No, Not any unusual distributions present.\n"
      ]
    },
    {
      "cell_type": "markdown",
      "metadata": {
        "id": "CVnWHqz2YrP6",
        "colab_type": "text"
      },
      "source": [
        "## Bivariate Exploration\n"
      ]
    },
    {
      "cell_type": "code",
      "metadata": {
        "id": "HXl3C8N4YrP9",
        "colab_type": "code",
        "colab": {}
      },
      "source": [
        "# Customers vs Subscribers\n",
        "customer = df_clean.query('user_type == \"Customer\"')['bike_id'].count()\n",
        "subscriber = df_clean.query('user_type == \"Subscriber\"')['bike_id'].count()\n",
        "customer_prop = customer / df_clean['bike_id'].count()\n",
        "subscriber_prop = subscriber / df_clean['bike_id'].count()"
      ],
      "execution_count": 0,
      "outputs": []
    },
    {
      "cell_type": "code",
      "metadata": {
        "id": "gIkmHILkYrQD",
        "colab_type": "code",
        "colab": {}
      },
      "source": [
        "# Customers vs Subscribers Visuals\n",
        "# pie chart\n",
        "plt.figure(figsize = [8, 5])\n",
        "\n",
        "labels = ['Customer', 'Subscriber']\n",
        "size = [customer_prop, subscriber_prop]\n",
        "explode = (0, 0.3)\n",
        "\n",
        "plt.pie(size, explode=explode, labels = labels, autopct='%1.1f%%', shadow=True, startangle=90, textprops={'color':'white'})\n",
        "plt.axis('equal')\n",
        "\n",
        "plt.suptitle('Ford GoBike System - Customers vs. Subscribers', y=1.05, fontsize=16, fontweight='bold');"
      ],
      "execution_count": 0,
      "outputs": []
    },
    {
      "cell_type": "code",
      "metadata": {
        "id": "Vm08_uETYrQM",
        "colab_type": "code",
        "colab": {}
      },
      "source": [
        "\n",
        "# Customers vs Subscribers Visuals\n",
        "# bar chart\n",
        "plt.figure(figsize = [10, 5])\n",
        "\n",
        "graph = sb.countplot(data = df_clean ,x = \"user_type\", order = df_clean.user_type.value_counts().index);\n",
        "graph.set_xlabel('User Type');\n",
        "graph.set_ylabel('Number of Bike Trips');\n",
        "plt.suptitle('Ford GoBike System - Customers vs. Subscribers', y=1.05, fontsize=16, fontweight='bold');"
      ],
      "execution_count": 0,
      "outputs": []
    },
    {
      "cell_type": "code",
      "metadata": {
        "id": "6hyC1hCEYrQT",
        "colab_type": "code",
        "colab": {}
      },
      "source": [
        "# Customer Usage by Month vs. Subscriber Usage by Month\n",
        "#plt.figure(figsize = [12, 5])-color\n",
        "graph = sb.catplot(data=df_clean, x='start_time_month', col=\"user_type\", kind='count', sharey = True, color =no_color );\n",
        "\n",
        "graph.set_axis_labels(\"Month\", \"Number of Bike Trips\");\n",
        "graph.set_titles(\"{col_name}\");\n",
        "\n",
        "graph.fig.suptitle('Ford GoBike System - Customers vs. Subscribers', y=1.05, fontsize=16, fontweight='bold');\n",
        "graph.set_xticklabels(rotation=75);"
      ],
      "execution_count": 0,
      "outputs": []
    },
    {
      "cell_type": "code",
      "metadata": {
        "id": "PQJt2TeTYrQe",
        "colab_type": "code",
        "colab": {}
      },
      "source": [
        "# Customer Usage by Weekday vs. Subscriber Usage by Weekday\n",
        "plt.figure(figsize=(12, 5))\n",
        "\n",
        "df_cleaned_user_week = df_clean.groupby(['start_time_weekday', 'user_type']).size().reset_index()\n",
        "weekday = ['Mon', 'Tue', 'Wed', 'Thu', 'Fri', 'Sat', 'Sun']\n",
        "\n",
        "ax = sb.pointplot(data=df_clean, x='start_time_weekday', y=0, hue = 'user_type', scale=.7, order = weekday);\n",
        "\n",
        "plt.title('Ford GoBike System Trends by User Type', y=1.05, fontsize=16, fontweight='bold')\n",
        "plt.xlabel('Weekdays')\n",
        "plt.ylabel('Number of Bike Trips');\n",
        "plt.grid()"
      ],
      "execution_count": 0,
      "outputs": []
    },
    {
      "cell_type": "markdown",
      "metadata": {
        "id": "FTIVNacdYrQj",
        "colab_type": "text"
      },
      "source": [
        "## Talk about some of the relationships you observed in this part of the investigation. How did the feature(s) of interest vary with other features in the dataset?"
      ]
    },
    {
      "cell_type": "markdown",
      "metadata": {
        "id": "OkBjr3kO6R5S",
        "colab_type": "text"
      },
      "source": [
        "In Bivariate exploration, we use two variables to compare and visualize the data, in which we can easily get the maximum and average of the dataset."
      ]
    },
    {
      "cell_type": "markdown",
      "metadata": {
        "id": "eTXK5I2dYrQk",
        "colab_type": "text"
      },
      "source": [
        "## Did you observe any interesting relationships between the other features (not the main feature(s) of interest)?"
      ]
    },
    {
      "cell_type": "markdown",
      "metadata": {
        "id": "GxpiIGMH7SMW",
        "colab_type": "text"
      },
      "source": [
        "Yes, Subscriber uses more bike ride than customer but customer travel more distance and take longer time."
      ]
    },
    {
      "cell_type": "markdown",
      "metadata": {
        "id": "-0qoJuWgYrQu",
        "colab_type": "text"
      },
      "source": [
        "## Multivariate Exploration"
      ]
    },
    {
      "cell_type": "markdown",
      "metadata": {
        "id": "l7SLyPUQYrQv",
        "colab_type": "text"
      },
      "source": [
        "\n",
        "### 2-d bar chart member_gender vs user_type vs duration_sec"
      ]
    },
    {
      "cell_type": "code",
      "metadata": {
        "id": "kVJhrNz8YrQx",
        "colab_type": "code",
        "colab": {}
      },
      "source": [
        "\n",
        "cat_means = df.groupby(['member_gender', 'user_type']).mean()['duration_sec']\n",
        "cat_means = cat_means.reset_index(name = 'duration_sec_avg')\n",
        "cat_means = cat_means.pivot(index = 'user_type', columns = 'member_gender',\n",
        "                            values = 'duration_sec_avg')\n",
        "sb.heatmap(cat_means, annot = True, fmt = '.3f',\n",
        "           cbar_kws = {'label' : 'mean(duration_sec_avg)'});"
      ],
      "execution_count": 0,
      "outputs": []
    },
    {
      "cell_type": "code",
      "metadata": {
        "id": "Nh-WcguTp0nh",
        "colab_type": "code",
        "colab": {}
      },
      "source": [
        ""
      ],
      "execution_count": 0,
      "outputs": []
    },
    {
      "cell_type": "code",
      "metadata": {
        "id": "nDkmKi6YYrQ7",
        "colab_type": "code",
        "colab": {}
      },
      "source": [
        "cat_means = df_clean.groupby(['member_gender', 'user_type']).mean()['member_age']\n",
        "cat_means = cat_means.reset_index(name = 'member_age')\n",
        "cat_means = cat_means.pivot(index = 'user_type', columns = 'member_gender',\n",
        "                            values = 'member_age')\n",
        "sb.heatmap(cat_means, annot = True, fmt = '.3f',\n",
        "           cbar_kws = {'label' : 'mean(member_age)'});"
      ],
      "execution_count": 0,
      "outputs": []
    },
    {
      "cell_type": "code",
      "metadata": {
        "id": "Q0dRbcKgYrQ_",
        "colab_type": "code",
        "colab": {}
      },
      "source": [
        "g = sb.FacetGrid(data = df_clean, col = 'member_gender', height = 3);\n",
        "g.map(hist2dgrid,'member_age', 'duration_sec', color = 'inferno_r');\n",
        "g.set_xlabels('Member Age');\n",
        "g.set_ylabels('duration_sec');\n",
        "\n",
        "plt.show()"
      ],
      "execution_count": 0,
      "outputs": []
    },
    {
      "cell_type": "code",
      "metadata": {
        "id": "y1qA0dDZYrRD",
        "colab_type": "code",
        "colab": {}
      },
      "source": [
        "\n",
        "fig = plt.figure(figsize = [8,6])\n",
        "ax = sb.pointplot(data = age_below_forty, x = 'start_time_dayofweek', y = 'duration_sec', hue = 'user_type',\n",
        "           palette = 'Purples', linestyles = '', dodge = 0.3);\n",
        "plt.title('Biking durations for bikers who are younger than 40 years old across dayofweek and user type');\n",
        "plt.ylabel('Mean Duration (sec)')\n",
        "plt.yscale('log');\n",
        "plt.yticks([1, 2, 5, 10, 20, 50, 100], [1, 2, 5, 10, 20, 50, 100]);\n",
        "ax.set_yticklabels([],minor = True);"
      ],
      "execution_count": 0,
      "outputs": []
    },
    {
      "cell_type": "markdown",
      "metadata": {
        "id": "V_aI0nVwYrSJ",
        "colab_type": "text"
      },
      "source": [
        "\n",
        "### Talk about some of the relationships you observed in this part of the investigation. Were there features that strengthened each other in terms of looking at your feature(s) of interests?\n",
        "\n"
      ]
    },
    {
      "cell_type": "markdown",
      "metadata": {
        "id": "gpCx6D0r7p8S",
        "colab_type": "text"
      },
      "source": [
        "We plot member, gender, member's age. The age group of people belongs to 25 to 40 and male traveller is more than female and other traveller."
      ]
    },
    {
      "cell_type": "markdown",
      "metadata": {
        "id": "GVaTMYwNYrSL",
        "colab_type": "text"
      },
      "source": [
        "# Summary"
      ]
    },
    {
      "cell_type": "markdown",
      "metadata": {
        "id": "88roOTXD9BkJ",
        "colab_type": "text"
      },
      "source": [
        "Most of the riders are male subscribers. most members are of age around 25 to 40 years old. Though not a huge difference, male riders tend to have shorter trips compared to female users. Riders who rented the bikes from Monday to Friday are older than those who ride on weekends."
      ]
    }
  ]
}