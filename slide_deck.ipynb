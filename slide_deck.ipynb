{
 "cells": [
  {
   "cell_type": "markdown",
   "metadata": {
    "colab_type": "text",
    "id": "TNgTLJfoYrM3",
    "slideshow": {
     "slide_type": "slide"
    }
   },
   "source": [
    "# Communicate Data Finding Visualisation\n",
    "## by (Amit Kumar Singh)\n",
    "\n",
    "\n",
    "# Introduction\n",
    "Ford GoBike is the Bay Area's bike share system. Bay Area Bike Share was introduced in 2013 as a pilot program for the region, with 700 bikes and 70 stations across San Francisco and San Jose. Once expansion is complete, Ford GoBike will grow to 7,000 bikes across San Francisco, the East Bay and San Jose."
   ]
  },
  {
   "cell_type": "code",
   "execution_count": 0,
   "metadata": {
    "colab": {},
    "colab_type": "code",
    "id": "IvJGryR9YrNB",
    "slideshow": {
     "slide_type": "skip"
    }
   },
   "outputs": [],
   "source": [
    "# import all packages and set plots to be embedded inline\n",
    "import numpy as np\n",
    "import pandas as pd\n",
    "import matplotlib.pyplot as plt\n",
    "import seaborn as sb\n",
    "import datetime\n",
    "\n",
    "%matplotlib inline"
   ]
  },
  {
   "cell_type": "code",
   "execution_count": 2,
   "metadata": {
    "colab": {
     "base_uri": "https://localhost:8080/",
     "height": 204
    },
    "colab_type": "code",
    "id": "JdA0SkHirm7O",
    "outputId": "18c166f1-887a-4d8e-c426-2e9315135190",
    "slideshow": {
     "slide_type": "skip"
    }
   },
   "outputs": [
    {
     "name": "stdout",
     "output_type": "stream",
     "text": [
      "--2019-10-30 18:07:31--  https://cf-template-inframind2.s3.amazonaws.com/fordgo_master_clean.csv\n",
      "Resolving cf-template-inframind2.s3.amazonaws.com (cf-template-inframind2.s3.amazonaws.com)... 52.216.229.131\n",
      "Connecting to cf-template-inframind2.s3.amazonaws.com (cf-template-inframind2.s3.amazonaws.com)|52.216.229.131|:443... connected.\n",
      "HTTP request sent, awaiting response... 200 OK\n",
      "Length: 115453978 (110M) [text/csv]\n",
      "Saving to: ‘fordgo_master_clean.csv’\n",
      "\n",
      "fordgo_master_clean 100%[===================>] 110.11M  50.7MB/s    in 2.2s    \n",
      "\n",
      "2019-10-30 18:07:33 (50.7 MB/s) - ‘fordgo_master_clean.csv’ saved [115453978/115453978]\n",
      "\n"
     ]
    }
   ],
   "source": [
    "!wget 'https://cf-template-inframind2.s3.amazonaws.com/fordgo_master_clean.csv'"
   ]
  },
  {
   "cell_type": "code",
   "execution_count": 0,
   "metadata": {
    "colab": {},
    "colab_type": "code",
    "id": "1COGpYN0YrNN",
    "slideshow": {
     "slide_type": "skip"
    }
   },
   "outputs": [],
   "source": [
    "df_clean = pd.read_csv('fordgo_master_clean.csv')"
   ]
  },
  {
   "cell_type": "markdown",
   "metadata": {
    "colab_type": "text",
    "id": "pPZHLZXBrRF6",
    "slideshow": {
     "slide_type": "slide"
    }
   },
   "source": [
    "## what are the number of users to different station range? from which station most of the rides are booked."
   ]
  },
  {
   "cell_type": "code",
   "execution_count": 6,
   "metadata": {
    "colab": {
     "base_uri": "https://localhost:8080/",
     "height": 334
    },
    "colab_type": "code",
    "id": "bG67unTRrRF7",
    "outputId": "b1162b12-097d-44eb-d074-199c564e138a",
    "scrolled": true,
    "slideshow": {
     "slide_type": "subslide"
    }
   },
   "outputs": [
    {
     "data": {
      "image/png": "[encoded data removed]",
      "text/plain": [
       "<Figure size 576x360 with 1 Axes>"
      ]
     },
     "metadata": {
      "tags": []
     },
     "output_type": "display_data"
    }
   ],
   "source": [
    "binsize = 50\n",
    "bins = np.arange(0, df_clean['start_station_id'].max()+binsize, binsize)\n",
    "\n",
    "plt.figure(figsize=[8, 5])\n",
    "plt.hist(data = df_clean, x = 'start_station_id', bins = bins)\n",
    "plt.xlabel('start station id')\n",
    "plt.show()"
   ]
  },
  {
   "cell_type": "markdown",
   "metadata": {
    "colab_type": "text",
    "id": "G0Ms_WUarRF_",
    "slideshow": {
     "slide_type": "notes"
    }
   },
   "source": [
    "This is univariate plot between count of no of users between different station id. \n",
    "We can interprate from the graph that most of the users are from station ids range 0 to 50"
   ]
  },
  {
   "cell_type": "markdown",
   "metadata": {
    "colab_type": "text",
    "id": "_9zz9TcdrRGA",
    "slideshow": {
     "slide_type": "slide"
    }
   },
   "source": [
    "## Which age category Members are booking more rides?"
   ]
  },
  {
   "cell_type": "code",
   "execution_count": 7,
   "metadata": {
    "colab": {
     "base_uri": "https://localhost:8080/",
     "height": 334
    },
    "colab_type": "code",
    "id": "EbSCh30DrRGB",
    "outputId": "be6babaa-677e-486e-d598-a92b1bf989e5",
    "slideshow": {
     "slide_type": "subslide"
    }
   },
   "outputs": [
    {
     "data": {
      "image/png": "[encoded data removed]",
      "text/plain": [
       "<Figure size 576x360 with 1 Axes>"
      ]
     },
     "metadata": {
      "tags": []
     },
     "output_type": "display_data"
    }
   ],
   "source": [
    "binsize = 5\n",
    "bins = np.arange(0, df_clean['member_age'].max()+binsize, binsize)\n",
    "\n",
    "plt.figure(figsize=[8, 5])\n",
    "plt.hist(data = df_clean, x = 'member_age', bins = bins)\n",
    "plt.xlabel('Member age (in years)')\n",
    "plt.show()"
   ]
  },
  {
   "cell_type": "markdown",
   "metadata": {
    "colab_type": "text",
    "id": "KLo5rtS2rRGE",
    "slideshow": {
     "slide_type": "notes"
    }
   },
   "source": [
    " we can observe from that most of the members using the fordgo-bike servie are of 30 to 35 years of age"
   ]
  },
  {
   "cell_type": "markdown",
   "metadata": {
    "colab_type": "text",
    "id": "sL_po478rRGS",
    "slideshow": {
     "slide_type": "slide"
    }
   },
   "source": [
    "## For how many duration time users book bike rides?"
   ]
  },
  {
   "cell_type": "code",
   "execution_count": 8,
   "metadata": {
    "colab": {
     "base_uri": "https://localhost:8080/",
     "height": 279
    },
    "colab_type": "code",
    "id": "qb9GaB_dYrPh",
    "outputId": "fb673327-480e-4f03-c9da-94942c13d362",
    "slideshow": {
     "slide_type": "subslide"
    }
   },
   "outputs": [
    {
     "data": {
      "image/png": "[encoded data removed]",
      "text/plain": [
       "<Figure size 432x288 with 1 Axes>"
      ]
     },
     "metadata": {
      "tags": []
     },
     "output_type": "display_data"
    }
   ],
   "source": [
    "bin_edges = 10 ** np.arange(1.785330, 4.936358 + 0.1, 0.1)\n",
    "ticks = [30,100,300,1000,3000,10000,30000,100000]\n",
    "labls = ['{}'.format(v) for v in ticks]\n",
    "plt.hist(data = df_clean, x ='duration_sec', bins = bin_edges);\n",
    "plt.xscale(\"log\");\n",
    "plt.xlabel('duration (second)')\n",
    "plt.xticks(ticks,labls);"
   ]
  },
  {
   "cell_type": "markdown",
   "metadata": {
    "colab_type": "text",
    "id": "cO8d9LwprRGd",
    "slideshow": {
     "slide_type": "notes"
    }
   },
   "source": [
    "Most of the riders travel duration time is between 500 to 1000 seconds"
   ]
  },
  {
   "cell_type": "code",
   "execution_count": 0,
   "metadata": {
    "colab": {},
    "colab_type": "code",
    "id": "uWasw4kNYrPp",
    "slideshow": {
     "slide_type": "skip"
    }
   },
   "outputs": [],
   "source": [
    "#Usage by females, males, and other\n",
    "gender = df_clean.member_gender.value_counts()"
   ]
  },
  {
   "cell_type": "markdown",
   "metadata": {
    "colab_type": "text",
    "id": "emfnIrBnrRGh",
    "slideshow": {
     "slide_type": "slide"
    }
   },
   "source": [
    "## What is the percentage of male users, female users and others."
   ]
  },
  {
   "cell_type": "code",
   "execution_count": 10,
   "metadata": {
    "colab": {
     "base_uri": "https://localhost:8080/",
     "height": 277
    },
    "colab_type": "code",
    "id": "x4tFObB3YrPu",
    "outputId": "67d2496a-18d6-4c70-c119-14e0e10caaaa",
    "slideshow": {
     "slide_type": "subslide"
    }
   },
   "outputs": [
    {
     "data": {
      "image/png": "[encoded data removed]",
      "text/plain": [
       "<Figure size 432x288 with 1 Axes>"
      ]
     },
     "metadata": {
      "tags": []
     },
     "output_type": "display_data"
    }
   ],
   "source": [
    "plt.pie(gender, labels = gender.index, startangle = 90, autopct= '%1.1f%%', counterclock = False, textprops={'color':'white'});\n",
    "plt.axis('square');\n",
    "plt.title('Ford GoBike System User by Gender', y=1.05, fontsize=16, fontweight='bold', color = 'white');"
   ]
  },
  {
   "cell_type": "markdown",
   "metadata": {
    "colab_type": "text",
    "id": "cjzFUdsDrRGk",
    "slideshow": {
     "slide_type": "notes"
    }
   },
   "source": [
    "Here blue area represents the male riders.\n",
    "Orange area represents female riders.\n",
    "and green area represents others riders.\n",
    "\n",
    "we can see that there are approx 76% Male riders, 21% female riders and rest riders of other gender."
   ]
  },
  {
   "cell_type": "code",
   "execution_count": 0,
   "metadata": {
    "colab": {},
    "colab_type": "code",
    "id": "HXl3C8N4YrP9",
    "slideshow": {
     "slide_type": "skip"
    }
   },
   "outputs": [],
   "source": [
    "# Customers vs Subscribers\n",
    "customer = df_clean.query('user_type == \"Customer\"')['bike_id'].count()\n",
    "subscriber = df_clean.query('user_type == \"Subscriber\"')['bike_id'].count()\n",
    "customer_prop = customer / df_clean['bike_id'].count()\n",
    "subscriber_prop = subscriber / df_clean['bike_id'].count()"
   ]
  },
  {
   "cell_type": "markdown",
   "metadata": {
    "colab_type": "text",
    "id": "FUiyF515rRGv",
    "slideshow": {
     "slide_type": "slide"
    }
   },
   "source": [
    "## What is the percentage of Customer and subscriber who booked rides?"
   ]
  },
  {
   "cell_type": "code",
   "execution_count": 12,
   "metadata": {
    "colab": {
     "base_uri": "https://localhost:8080/",
     "height": 364
    },
    "colab_type": "code",
    "id": "gIkmHILkYrQD",
    "outputId": "dfdab303-aede-46d0-baf9-deda07d8b8a2",
    "slideshow": {
     "slide_type": "subslide"
    }
   },
   "outputs": [
    {
     "data": {
      "image/png": "[encoded data removed]",
      "text/plain": [
       "<Figure size 576x360 with 1 Axes>"
      ]
     },
     "metadata": {
      "tags": []
     },
     "output_type": "display_data"
    }
   ],
   "source": [
    "# Customers vs Subscribers Visuals\n",
    "# pie chart\n",
    "plt.figure(figsize = [8, 5])\n",
    "\n",
    "labels = ['Customer', 'Subscriber']\n",
    "size = [customer_prop, subscriber_prop]\n",
    "explode = (0, 0.3)\n",
    "\n",
    "plt.pie(size, explode=explode, labels = labels, autopct='%1.1f%%', shadow=True, startangle=90, textprops={'color':'white'})\n",
    "plt.axis('equal')\n",
    "\n",
    "plt.suptitle('Ford GoBike System - Customers vs. Subscribers', y=1.05, fontsize=16, fontweight='bold');"
   ]
  },
  {
   "cell_type": "markdown",
   "metadata": {
    "colab_type": "text",
    "id": "CZHu2WstrRG0",
    "slideshow": {
     "slide_type": "notes"
    }
   },
   "source": [
    "There are approx 79% subscriber and 21% customer using the service of fordgo-bikes service"
   ]
  },
  {
   "cell_type": "markdown",
   "metadata": {
    "colab_type": "text",
    "id": "5l7YESkXrRG1",
    "slideshow": {
     "slide_type": "slide"
    }
   },
   "source": [
    "## How many ride trips are taken by customers and subscribers."
   ]
  },
  {
   "cell_type": "code",
   "execution_count": 13,
   "metadata": {
    "colab": {
     "base_uri": "https://localhost:8080/",
     "height": 395
    },
    "colab_type": "code",
    "id": "Vm08_uETYrQM",
    "outputId": "8ebfd90c-e536-4b7b-cacc-6e33f77d0d32",
    "slideshow": {
     "slide_type": "subslide"
    }
   },
   "outputs": [
    {
     "data": {
      "image/png": "[encoded data removed]",
      "text/plain": [
       "<Figure size 720x360 with 1 Axes>"
      ]
     },
     "metadata": {
      "tags": []
     },
     "output_type": "display_data"
    }
   ],
   "source": [
    "\n",
    "# Customers vs Subscribers Visuals\n",
    "# bar chart\n",
    "plt.figure(figsize = [10, 5])\n",
    "\n",
    "graph = sb.countplot(data = df_clean ,x = \"user_type\", order = df_clean.user_type.value_counts().index);\n",
    "graph.set_xlabel('User Type');\n",
    "graph.set_ylabel('Number of Bike Trips');\n",
    "plt.suptitle('Ford GoBike System - Customers vs. Subscribers', y=1.05, fontsize=16, fontweight='bold');"
   ]
  },
  {
   "cell_type": "markdown",
   "metadata": {
    "colab_type": "text",
    "id": "WdzbjISjrRG7",
    "slideshow": {
     "slide_type": "notes"
    }
   },
   "source": [
    "This plot shows count of subscriber and customer using the fordgo-bike service. as we can see from the plot that there are more than 400000 trips taken by the subscriber and more than 100000 rides was taken by customer"
   ]
  },
  {
   "cell_type": "markdown",
   "metadata": {
    "colab_type": "text",
    "id": "9C0EhF1Xv3kL",
    "slideshow": {
     "slide_type": "slide"
    }
   },
   "source": [
    "## Bivariate plot between member Gender and user Type."
   ]
  },
  {
   "cell_type": "code",
   "execution_count": 14,
   "metadata": {
    "colab": {
     "base_uri": "https://localhost:8080/",
     "height": 498
    },
    "colab_type": "code",
    "id": "M7VgWEZov-tQ",
    "outputId": "775eb7be-8666-4f3d-f404-24ce15efbe97",
    "slideshow": {
     "slide_type": "subslide"
    }
   },
   "outputs": [
    {
     "data": {
      "image/png": "[encoded data removed]",
      "text/plain": [
       "<Figure size 576x576 with 1 Axes>"
      ]
     },
     "metadata": {
      "tags": []
     },
     "output_type": "display_data"
    }
   ],
   "source": [
    "plt.figure(figsize = [8, 8])\n",
    "\n",
    "# subplot 1: color vs cut\n",
    "plt.subplot(1, 1, 1)\n",
    "sb.countplot(data = df_clean, x = 'member_gender', hue = 'user_type', palette = 'Blues')\n",
    "\n",
    "plt.show()"
   ]
  },
  {
   "cell_type": "markdown",
   "metadata": {
    "colab_type": "text",
    "id": "F_-8ercHyT6D",
    "slideshow": {
     "slide_type": "notes"
    }
   },
   "source": [
    "Most of the subscribers are male members. There are more than 300000 male subscribers, also this plot reveals subscribers are booking more rides than normal customers."
   ]
  },
  {
   "cell_type": "markdown",
   "metadata": {
    "colab_type": "text",
    "id": "ZIY8rTC52PP0",
    "slideshow": {
     "slide_type": "slide"
    }
   },
   "source": [
    "## Draw point plot between members age vs user_type vs member_gender."
   ]
  },
  {
   "cell_type": "code",
   "execution_count": 15,
   "metadata": {
    "colab": {
     "base_uri": "https://localhost:8080/",
     "height": 405
    },
    "colab_type": "code",
    "id": "y1qA0dDZYrRD",
    "outputId": "71302f40-ed72-4449-9c47-1b143ffa70eb",
    "slideshow": {
     "slide_type": "subslide"
    }
   },
   "outputs": [
    {
     "data": {
      "image/png": "[encoded data removed]",
      "text/plain": [
       "<Figure size 576x432 with 1 Axes>"
      ]
     },
     "metadata": {
      "tags": []
     },
     "output_type": "display_data"
    }
   ],
   "source": [
    "fig = plt.figure(figsize = [8,6])\n",
    "ax = sb.pointplot(data = df_clean, x = 'member_gender', y = 'member_age', hue = 'user_type',\n",
    "           palette = 'Purples', linestyles = '', dodge = 0.1);\n",
    "plt.title('Point plot');\n",
    "plt.ylabel('Members age')\n",
    "ax.set_facecolor('xkcd:cyan')\n",
    "plt.yscale('log');\n",
    "plt.yticks([1, 2, 5, 10, 20, 50, 100], [1, 2, 5, 10, 20, 50, 100]);\n",
    "ax.set_yticklabels([],minor = True);"
   ]
  },
  {
   "cell_type": "markdown",
   "metadata": {
    "colab_type": "text",
    "id": "jUSgErRbrRHf",
    "slideshow": {
     "slide_type": "notes"
    }
   },
   "source": [
    "A dodged point plot for user member gender of different ages. there are two user types customer and subscriber.\n",
    "\n",
    "average age of most of the user types and genders is of 30 to 40 year"
   ]
  },
  {
   "cell_type": "markdown",
   "metadata": {
    "colab_type": "text",
    "id": "GVaTMYwNYrSL",
    "slideshow": {
     "slide_type": "slide"
    }
   },
   "source": [
    "# Summary\n",
    "\n",
    "Most of the riders are male subscribers. most members are of age around 25 to 40 years old. Though not a huge difference, male riders tend to have shorter trips compared to female users. Riders who rented the bikes from Monday to Friday are older than those who ride on weekends."
   ]
  }
 ],
 "metadata": {
  "celltoolbar": "Slideshow",
  "colab": {
   "collapsed_sections": [
    "TznISQ_GYrPV",
    "McXqyD1RYrP4"
   ],
   "name": "exploration_template.ipynb",
   "provenance": []
  },
  "kernelspec": {
   "display_name": "Python 3",
   "language": "python",
   "name": "python3"
  },
  "language_info": {
   "codemirror_mode": {
    "name": "ipython",
    "version": 3
   },
   "file_extension": ".py",
   "mimetype": "text/x-python",
   "name": "python",
   "nbconvert_exporter": "python",
   "pygments_lexer": "ipython3",
   "version": "3.7.2"
  }
 },
 "nbformat": 4,
 "nbformat_minor": 1
}
